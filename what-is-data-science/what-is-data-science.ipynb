{
 "cells": [
  {
   "cell_type": "markdown",
   "metadata": {
    "slideshow": {
     "slide_type": "notes"
    }
   },
   "source": [
    "> **Jupyter slideshow:** This notebook can be displayed as slides. To view it as a slideshow in your browser, type following in the console:\n",
    " \n",
    " \n",
    "> `> jupyter nbconvert [this_notebook.ipynb] --to slides --post serve`\n",
    " \n",
    " \n",
    "> To toggle off the slideshow cell formatting, click the `CellToolbar` button, then `View > Cell Toolbar > None`.\n",
    "\n",
    "For more help, check out [this tutorial](https://drive.google.com/open?id=17q01buf7YFuB4yF8cFjmnc_ZARQWOljGhlHs99i9X0c)."
   ]
  },
  {
   "cell_type": "markdown",
   "metadata": {
    "slideshow": {
     "slide_type": "slide"
    }
   },
   "source": [
    "<img src=\"http://imgur.com/1ZcRyrc.png\" style=\"float: left; margin: 20px; height: 55px\">\n",
    " \n",
    "# What is Data Science?\n",
    " \n",
    "_Authors: Alexander Egorenkov (DC), Amy Roberts (NYC)_\n",
    " \n",
    "---\n"
   ]
  },
  {
   "cell_type": "markdown",
   "metadata": {
    "slideshow": {
     "slide_type": "slide"
    }
   },
   "source": [
    "<a id=\"learning-objectives\"></a>\n",
    "### Learning Objectives\n",
    "*After this lesson, you will be able to:*\n",
    "\n",
    "- Describe the roles and components of a successful development environment.\n",
    "- Define data science and the data science workflow.\n",
    "- Apply the data science workflow to solve a task.\n",
    "- Discuss common data science terminology and processes."
   ]
  },
  {
   "cell_type": "markdown",
   "metadata": {},
   "source": [
    "### Lesson Guide\n",
    "- [Learning Objectives](#learning-objectives)\n",
    "- [Welcome to GA](#welcome)\n",
    "- [Intro: What Is Data Science?](#wids)\n",
    "- [Intro: The Data Science Workflow](#DSWF)\n",
    "\t- [Asking a Good Question](#good_q)\n",
    "\t- [Example: A Data Science Project](#futurama)\n",
    "\t- [Practice: The Data Science Workflow](#practice1)\n",
    "- [Data and Data Set Types](#data-types)\n",
    "- [Common Data Terminology](#data-terms)\n",
    "- [Intro: Machine Learning](#ML)\n",
    "\t- [Supervised Learning](#supervised)\n",
    "        - [Practice: Regression or Classification](#practice2) \n",
    "    - [Unsupervised Learning](#unsupervised)\n",
    "- [Algorithms](#algorithm)    \n",
    "- [Intro: scikit-learn](#sklearn)\n",
    "- [Conclusion](#conclusion)\n",
    "- [Additional Resources](#add_res)"
   ]
  },
  {
   "cell_type": "markdown",
   "metadata": {
    "slideshow": {
     "slide_type": "slide"
    }
   },
   "source": [
    "<img src=\"http://imgur.com/1ZcRyrc.png\" style=\"float: left; margin: 20px; height: 35px\">\n",
    "\n",
    "## Welcome to GA!\n",
    "<a id=\"welcome\"></a>"
   ]
  },
  {
   "cell_type": "markdown",
   "metadata": {
    "slideshow": {
     "slide_type": "slide"
    }
   },
   "source": [
    "### GA offers a special learning environment.\n",
    "\n",
    "- Introduce the instructors, instructional assistants, course producers.\n",
    "- GA is a global community of individuals empowered to pursue the work we love.\n",
    "- GA Resources — discounts, community events, office hours.\n",
    "- GA feedback loop — exit tickets, mid-course feedback, final feedback."
   ]
  },
  {
   "cell_type": "markdown",
   "metadata": {
    "slideshow": {
     "slide_type": "slide"
    }
   },
   "source": [
    "### Road to Success\n",
    "\n",
    "- Emotional cycle of change.\n",
    "- Student learning responsibility.\n",
    "- GA graduation requirements\n",
    "- After GA — build network, find opportunities, community, perks\n",
    "- Q/A.\n"
   ]
  },
  {
   "cell_type": "markdown",
   "metadata": {
    "slideshow": {
     "slide_type": "slide"
    }
   },
   "source": [
    "<a id=\"wids\"></a>\n",
    "## Introduction: What Is Data Science?\n",
    "\n",
    "---\n",
    "\n",
    "- A set of tools and techniques used to extract useful information from data.\n",
    "- A interdisciplinary, problem-solving-oriented framework.\n",
    "- An application of scientific techniques to practical problems.\n",
    "\n",
    "![Data Science venn diagram](./assets/images/datascience-vd.png)"
   ]
  },
  {
   "cell_type": "markdown",
   "metadata": {},
   "source": [
    "### What Is Data? \n",
    "\n",
    "- \"Factual information (such as measurements or statistics) used as a basis for reasoning, discussion, or calculation\" — _Merriam-Webster._\n",
    "\n",
    "Data is typically referred to as being structured or unstructured.\n",
    "\n",
    "You may typically think about data as \"structured\" — i.e., contained within organized rows and columns in spreadsheets.\n",
    "\n",
    "\"Unstructured\" refers to most other data, such as reviews on Yelp.\n"
   ]
  },
  {
   "cell_type": "markdown",
   "metadata": {},
   "source": [
    "### Why Use Data Science?\n",
    "\n",
    "Welcome to the age of data. It's no secret that, over the past decade, there has been an exponential increase in the amount of data being collected. But what good is this information without anyone to extract insight from it? \n",
    "\n",
    "The number of data analysts and use of data analysis have risen vastly in recent years, and from it the field of data science has emerged. So how do we distinguish data science from traditional analytics? A helpful comparison is that analytics is useful for extracting explicit insights from data — i.e., summary statistics, trends, correlations — while data science is a means of extracting implicit insights such as multivariable correlations, natural language processing, and machine learning models.  \n",
    "\n",
    "The additional insights we can gain with data science have increased the functionality of data and the value of the analytical process. Consequently, part of data science is developing new methods for extracting insights from existing data sets to increase their value.  \n",
    "\n",
    "These are just some of the reasons the data science field has grown and continues to grow rapidly."
   ]
  },
  {
   "cell_type": "markdown",
   "metadata": {
    "slideshow": {
     "slide_type": "slide"
    }
   },
   "source": [
    "### Who Uses Data Science?\n",
    "\n",
    "You've probably seen data science in action more than you realize. It's used for:\n",
    "\n",
    "- Providing movie recommendations on Netflix.\n",
    "- Making product suggestions on Amazon.\n",
    "- Offering election and sports coverage on the stats site FiveThirtyEight.\n",
    "- Calculating daily bet predictions on the fantasy sports site DraftKings.\n",
    "- Returning auto translate and search results on Google.\n",
    "- And much more.\n",
    "\n",
    "Take a moment to think about other examples you might have encountered. Have you ever thought, \"How did it know that?\" or \"Hey, that was easy!\" about something that could have been based on models or predictive analytics?"
   ]
  },
  {
   "cell_type": "markdown",
   "metadata": {
    "slideshow": {
     "slide_type": "slide"
    }
   },
   "source": [
    "### Who Are Data Scientists?\n",
    "\n",
    "Data scientists don't always have the same title. Here are a few common roles that may use data science techniques:\n",
    "\n",
    "* Developer\n",
    "* Researcher\n",
    "* Data visualization expert\n",
    "* Data analyst\n",
    "* Business intelligence analyst\n",
    "\n",
    "![Data Science Roles](./assets/images/datascienceroles.jpg)"
   ]
  },
  {
   "cell_type": "markdown",
   "metadata": {
    "slideshow": {
     "slide_type": "slide"
    }
   },
   "source": [
    "To understand the role of a data scientist, it's important to understand the skills involved. Data scientists commonly leverage the following:\n",
    "\n",
    "- Business intelligence\n",
    "- Machine learning modeling\n",
    "- Database design/\"big data\"\n",
    "- Applied math and statistics\n",
    "- Programming\n",
    "- Study design\n",
    "\n",
    "![Data Science Skills](./assets/images/datasci-skills.jpg)"
   ]
  },
  {
   "cell_type": "markdown",
   "metadata": {
    "slideshow": {
     "slide_type": "slide"
    }
   },
   "source": [
    "**Data Science Skills, Broken Down by Role**\n",
    "\n",
    "So how are these capabilities applied? They may not be evenly distributed in each role. Let's look at how some of the positions we mentioned earlier might use each of these skills:\n",
    "\n",
    "![Data Science Skills by Role](./assets/images/datasci-skills-by-role.jpg)\n",
    "\n",
    "\n",
    "Keep in mind that these are just generalizations, and skill combinations can vary by industry, location, or company.  It is also important to note that no one data scientist is an expert in everything."
   ]
  },
  {
   "cell_type": "markdown",
   "metadata": {},
   "source": [
    "### How Do Data Scientists Solve Problems?\n",
    "\n",
    "How do data scientists solve problems? Most practitioners apply a version of the scientific method in order to logically deconstruct and analyze an issue. At General Assembly, we call this the data science workflow, which we've broken down into a series of steps.\n",
    "\n",
    "This problem-solving framework will help you produce results that are reliable (so your findings will be more accurate) and reproducible (so others can follow your steps and achieve the same results).\n",
    "\n",
    "Note that, depending on the problem, this process is not always linear. You may require lots of iteration and repetition before any conclusions can be made!"
   ]
  },
  {
   "cell_type": "markdown",
   "metadata": {
    "slideshow": {
     "slide_type": "slide"
    }
   },
   "source": [
    "<a id=\"DSWF\"></a>\n",
    "## Introduction: The Data Science Workflow\n",
    "\n",
    "---\n",
    "\n",
    "Throughout the course and for our projects we will be following a general workflow. This workflow will help you produce *reliable* and *reproducible* results.\n",
    "\n",
    "- **Reliable**: Accurate findings.\n",
    "- **Reproducible**: Others can follow your steps and achieve the same results.\n",
    "\n",
    "### Steps in the Data Science Workflow\n",
    "\n",
    "- **Frame**: Develop a hypothesis-driven approach to your analysis.\n",
    "- **Prepare**: Select, import, explore, and clean your data.\n",
    "- **Analyze**: Structure, visualize, and complete your analysis.\n",
    "- **Interpret**: Derive recommendations and business decisions from your data.\n",
    "- **Communicate**: Present (edited) insights from your data to different audiences."
   ]
  },
  {
   "cell_type": "markdown",
   "metadata": {},
   "source": [
    "#### Notes on the Data Science Workflow\n",
    "\n",
    "_These are not hard-set rules that must be followed; use them as guidelines._\n",
    "\n",
    "\n",
    "- The process is cyclical, so repeatition of steps is completely natural.\n",
    "- Not all steps will be necessary in every project."
   ]
  },
  {
   "cell_type": "markdown",
   "metadata": {},
   "source": [
    "<a id=\"good_q\"></a>\n",
    "### Asking a Good Question\n",
    "\n",
    "Even though all data science projects have different general flows, they all start in the same place: with a problem.  From this problem statement arises questions; questions we will ask the data in order to gain more information so we can attempt to find a solution to that problem.\n",
    "\n",
    "**Why do we need a good question?**\n",
    "\n",
    "_“A problem well stated is half solved.”_ — Charles Kettering\n",
    "\n",
    "A good question: \n",
    "\n",
    "- Sets you up for success as you begin analysis.\n",
    "- Establishes the basis for reproducibility.\n",
    "- Enables collaboration through clear goals.\n",
    "    - It's hard to collaborate without a vision."
   ]
  },
  {
   "cell_type": "markdown",
   "metadata": {},
   "source": [
    "One way to approach formulating a question is through goal-setting via the SMART Goals Framework.\n",
    "\n",
    "- **Specific**: The data set and key variables are clearly defined.\n",
    "- **Measurable**: The type of analysis and major assumptions are articulated.\n",
    "- **Attainable**: The question you are asking is feasible for your data set and is not likely to be biased.\n",
    "- **Reproducible**: Another person (or future you) can read and understand exactly how your analysis is performed.\n",
    "- **Time-bound**: You clearly state the time period and population to which this analysis pertains."
   ]
  },
  {
   "cell_type": "markdown",
   "metadata": {},
   "source": [
    "#### What Are Some Common Questions Asked in Data Science?\n",
    "\n",
    "**Machine learning more or less asks the following questions:**\n",
    "\n",
    "- Does X predict Y? (Where X is a set of data and y is an outcome.)\n",
    "- Are there any distinct groups in our data?\n",
    "- What are the key components of our data?\n",
    "- Is one of our observations “weird”?\n",
    "\n",
    "**From a business perspective, we can ask:**\n",
    "\n",
    "- What is the likelihood that a customer will buy this product?\n",
    "- Is this a good or bad review?\n",
    "- How much demand will there be for my service tomorrow?\n",
    "- Is this the cheapest way to deliver my goods?\n",
    "- Is there a better way to segment my marketing strategies?\n",
    "- What groups of products are customers purchasing together?\n",
    "- Can we automate this simple yes/no decision?\n",
    "\n",
    "_This list may seem limited, but we rewrite most questions to fit this form._\n",
    "\n",
    "Here is an example of a [SMART question](assets/SMART_example.md)."
   ]
  },
  {
   "cell_type": "markdown",
   "metadata": {
    "slideshow": {
     "slide_type": "slide"
    }
   },
   "source": [
    "<a id=\"futurama\"></a>\n",
    "### Example: A Data Science Project\n",
    "<img src=\"assets/images/futurama.png\" width=\"500\">\n",
    "\n",
    "#### Project 1: Futurama\n",
    "\n",
    "For those of you not familiar with _Futurama_, here are some quick notes about the show:\n",
    "\n",
    "- It's an animated comedy series set in the year 3000.\n",
    "- It was created by Matt Groening.\n",
    "- It focuses on the adventures of the space delivery company Planet Express.\n",
    "- You can learn more on the [Comedy Central Website](http://www.cc.com/shows/futurama) and on this [Wikipedia](https://en.wikipedia.org/wiki/Futurama) page.\n",
    "\n",
    "\n",
    "Image credit to [KT-245](http://kt-245.deviantart.com/)."
   ]
  },
  {
   "cell_type": "markdown",
   "metadata": {
    "slideshow": {
     "slide_type": "slide"
    }
   },
   "source": [
    "#### FRAME: Understand the Problem\n",
    "\n",
    "Using Planet Express' customer data from January 3001-3005, determine how likely previous customers are to request a repeat delivery using demographic information (e.g., profession, company size, location) and previous delivery data (e.g., days since last delivery, number of total deliveries, etc.).\n",
    "\n",
    "- Identify the business/product objectives.\n",
    "\t- How likely are previous customers to request a repeat delivery?\n",
    "- Identify and hypothesize goals and criteria for success.\n",
    "\t- What factors are likely to influence a customer's decision to reuse Planet Express for delivery?\n",
    "- Create a set of questions to help you identify the correct data set."
   ]
  },
  {
   "cell_type": "markdown",
   "metadata": {
    "slideshow": {
     "slide_type": "slide"
    }
   },
   "source": [
    "#### PREPARE: Obtain, Understand, Structure, and Clean the Data\n",
    "\n",
    "**Ideal Data vs. Data That is Available**  \n",
    "\n",
    "Oftentimes we'll start by identifying the *ideal data* we would want for a project.\n",
    "\n",
    "Then, during the data acquisition phase, we'll learn about the limitations on the types of data actually available. We have to decide if these limitations will inhibit our ability to answer our question of interest or if we can work with what we have to find a reasonable and reliable answer.\n",
    "\n",
    "For this example, our data includes:\n",
    "\n",
    "- Demographic information (e.g., profession, company size, location).\n",
    "- Previous delivery data (e.g., days since last delivery, number of total deliveries, etc.).\n",
    "\n",
    "This is possibly the hardest step in the data science workflow. At this stage, it is common to realize that the problem you are trying to solve may not be solvable with the information available. The data could be incomplete, non-existant, or unable to meet the criteria necessary to answer your question.  \n",
    "\n",
    "That said, you now have a better feel for the data available and the information they could contain. You can identify a new, answerable question that ultimately helps you solve or better understand your problem."
   ]
  },
  {
   "cell_type": "markdown",
   "metadata": {
    "slideshow": {
     "slide_type": "slide"
    }
   },
   "source": [
    "**Questions We May Ask About Our Data**\n",
    "\n",
    "- Is there enough data?\n",
    "- Does our data appropriately align with the question/problem statement?\n",
    "- Can the data set be trusted? How was it collected?\n",
    "- Is this data set aggregated? Can we use the aggregation, or do we need to obtain it pre-aggregation?\n",
    "- What are necessary resources, requirements, assumptions, and constraints?\n",
    "- Can we import data from the web (Google Analytics, HTML, XML)?\n",
    "- Can we import data from a file (CSV, XML, TXT, JSON)?\n",
    "- Can we import data from a preexisting database (SQL)?\n",
    "- Can we set up local or remote data structures?\n",
    "- What are the most appropriate tools for working with the data?\n",
    "- Do these tools align with the format and size of the data set?"
   ]
  },
  {
   "cell_type": "markdown",
   "metadata": {
    "slideshow": {
     "slide_type": "slide"
    }
   },
   "source": [
    "####  PREPARE: Understand the Data\n",
    "\n",
    "Oftentimes, we are given *secondary data*, or data that was collected previously. In these cases, we have to learn as much as possible about our data using tools like data dictionaries and source documentation to determine how the set was gathered.\n",
    "\n",
    "Here's an example of a data dictionary:\n",
    "\n",
    "Variable | Description | Type of Variable\n",
    "---| ---| ---\n",
    "Profession | Title of the Account Owner | Categorical\n",
    "Company Size | 1- small, 2- medium, 3- large| Categorical\n",
    "Location | Planet of the Company | Categorical\n",
    "Days Since Last Delivery | Integer | Continuous\n",
    "Number of Deliveries | Integer | Continuous\n",
    "\n",
    "**Common steps include:**  \n",
    "\n",
    "- Reading any documentation provided with the data (e.g., the data dictionary above).\n",
    "- Performing exploratory surface analysis via filtering, sorting, and simple visualizations.\n",
    "- Describing the data structure and the information being collected.\n",
    "- Exploring variables and data types via SELECT statements.\n",
    "- Assessing preliminary outliers and trends.\n",
    "- Verifying the quality of the data (feedback loop -> 1)."
   ]
  },
  {
   "cell_type": "markdown",
   "metadata": {
    "slideshow": {
     "slide_type": "slide"
    }
   },
   "source": [
    "#### PREPARE: Structure and Clean the Data  \n",
    "\n",
    "Additionally, we'll often need to clean our data prior to performing an analysis.  \n",
    "\n",
    "Common steps include:\n",
    "\n",
    "- Sampling the data and determining sampling methodology.\n",
    "- Iterating and exploring outliers and null values via SELECT statements.\n",
    "- Assessing qualitative versus quantitative data.\n",
    "- Formating and cleaning data in Python (e.g., dates, number signs, formatting).\n",
    "- Defining how to appropriately address missing values (cleaning).\n",
    "- Categorizing, manipulating, slicing, formating, and integrating data.\n",
    "- Formating and combining different data points, separate columns, etc.\n",
    "- Determining most appropriate methods for aggregating, cleaning, etc.\n",
    "- Creating the necessary derived columns from the data (new data).\n",
    "\n",
    "\n",
    "\n",
    "---\n",
    "\n",
    "**As you can see, the \"Prepare\" phase of the data science workflow encompasses several steps. The act of identifying, aquiring, and especially cleaning your data will consume a great deal of time (60%–70%), no matter your position hin the data field.**"
   ]
  },
  {
   "cell_type": "markdown",
   "metadata": {
    "slideshow": {
     "slide_type": "slide"
    }
   },
   "source": [
    "#### ANALYZE: Perform Exploratory Data Analysis\n",
    "\n",
    "As an example of basic statistics, you might check the mean, standard deviation, or specific frequency counts of your data.\n",
    "\n",
    "Variable | Mean (STD) or Frequency (%)\n",
    "---| ---\n",
    "Number of Deliveries | 50.0 (10)\n",
    "Earth | 50 (10%)\n",
    "Amphibios 9 | 100 (20%)\n",
    "Bogad | 100 (20%)\n",
    "Colgate 8| 100 (20%)\n",
    "Other| 150 (30%)\n",
    "\n",
    "**These descriptive stats allow us to:**\n",
    "\n",
    "- Identify trends and outliers.\n",
    "- Decide how to deal with outliers — excluding, filtering, and communication.\n",
    "- Apply descriptive and inferential statistics.\n",
    "- Determine initial visualization techniques.\n",
    "- Document and capture knowledge.\n",
    "- Choose visualization techniques for different data types.\n",
    "- Transform data."
   ]
  },
  {
   "cell_type": "markdown",
   "metadata": {
    "slideshow": {
     "slide_type": "slide"
    }
   },
   "source": [
    "#### ANALYZE: Create a Data Model\n",
    "\n",
    "We select data models based on the outcome we are interested in or the assumptions of the model we are using. An example of a model statement might look like this:\n",
    "\n",
    "_\"We completed a logistic regression. We calculated the probability of a customer placing another order with Planet Express.\"_  \n",
    "\n",
    "Here, we're using a logistic model because we want to determine the probability that a customer may place a return order, which at its heart is a *classification problem*.\n",
    "\n",
    "**The steps for model building are:**\n",
    "\n",
    "- Selecting the appropriate model.\n",
    "- Building the model.\n",
    "- Evaluating and refining the model.\n",
    "- Predicting outcomes and action items."
   ]
  },
  {
   "cell_type": "markdown",
   "metadata": {},
   "source": [
    "#### INTERPRET:  Develop Recommendations and Decisions\n",
    "\n",
    "What good is an analysis that comes to no conclusion? As a data professional, you may not perform this step alone and will instead consult with an expert in the field you're studying.  \n",
    "\n",
    "With or without a subject matter expert, you will need to draw conclusions about your project/experiment.\n",
    "\n",
    "- Did you reject or fail to reject your hypothesis?\n",
    "    - What does this mean for your project?\n",
    "    - What does this mean for your client?\n",
    "\n",
    "- Were you questions answered?\n",
    "    - Which ones?\n",
    "    - What do you need to do to answers the ones that weren't answered?\n",
    "    \n",
    "- Do your findings support any business recommendations, actions, or decisions?\n",
    "    - Is there further supportive analysis?\n",
    "    - How does your data support these recommendations?\n",
    "    \n",
    "You should be able to translate the results of your findings into a single sentence that leads to a recommendation.\n",
    "\n",
    "    - Conclusion: \"Customers from large companies were twice as likely to place another order with Planet Express than customers from small companies.\"\n",
    "    - Recommendation:  We should target more large companies to use our delivery service.\"\n",
    "    \n",
    "    - Conclusion: \"Other than size of company, I found no significant evidence that any other feature affected the odds of customers reusing our delivery service.\""
   ]
  },
  {
   "cell_type": "markdown",
   "metadata": {
    "slideshow": {
     "slide_type": "slide"
    }
   },
   "source": [
    "#### COMMUNICATE: Share the Results of Your Analysis  \n",
    "\n",
    "Presentations are a critical part of your analysis. It doesn't matter how brilliant your model is or how illuminating your findings are, if you are not able to effectively communicate your results, they will not be used.\n",
    "\n",
    "The most basic form of a data science presentation should include a simple sentence that describes your results:\n",
    "\n",
    "_\"Customers from large companies had twice (CI 1.9, 2.1) the odds for placing another order with Planet Express compared to customers from small companies.\"_\n",
    "\n",
    "Data science presentations can also be far more complex and exciting, like some of the [research presented by Nate Silver's FiveThirtyEight blog](http://fivethirtyeight.com/burrito/#brackets-view).\n",
    "\n",
    "When crafting a presentation, always consider your audience and make sure to practice your presentation beforehand. Consider the types of questions people might ask or — better yet — test your presentation on a few people and pay attention to their response. Clarify and refine your presentation accordingly.\n",
    "\n",
    "Make sure to consider your needs and goals as well as those of your audience. A presentation created for your fellow data scientists will be vastly different than a presentation intended for executives trying to make a business decision."
   ]
  },
  {
   "cell_type": "markdown",
   "metadata": {
    "slideshow": {
     "slide_type": "slide"
    }
   },
   "source": [
    "**Keys for Crafting a Good Presentation**\n",
    "\n",
    "- Summarize findings with narrative and storytelling techniques.\n",
    "- Refine your visualizations for broader comprehension.\n",
    "- Present both limitations and assumptions.\n",
    "- Determine the integrity of your analysis.\n",
    "- Consider the degree of disclosure for various stakeholders.\n",
    "- Test and evaluate the effectiveness of your presentation beforehand.\n",
    "- Review additional actions that could offer further insight."
   ]
  },
  {
   "cell_type": "markdown",
   "metadata": {
    "slideshow": {
     "slide_type": "slide"
    }
   },
   "source": [
    "**A Note About Iteration**\n",
    "\n",
    "Iteration is an important part of *every step* in the data science workflow. At any given point in the process, you may find yourself repeating or going back and redoing steps in order to better understand your data, clarify your model, and refine your presentation.\n",
    "\n",
    "For example, after presenting your findings, you may want to:\n",
    "\n",
    "- Identify follow-up problems and questions for future analysis.\n",
    "- Create a visually effective summary or report.\n",
    "- Consider the needs of different stakeholders and how your report might be changed for them.\n",
    "- Identify the limitations of your analysis.\n",
    "- Identify relationships between visualizations.\n"
   ]
  },
  {
   "cell_type": "markdown",
   "metadata": {
    "slideshow": {
     "slide_type": "slide"
    }
   },
   "source": [
    "<a id=\"practice1\"></a>\n",
    "### Practice: The Data Science Workflow\n",
    "\n",
    "---\n",
    "\n",
    "Use four of the steps from the Data Science Workflow (Frame, Prepare, Analyze, Communicate) to get to know your classmates!\n",
    "\n",
    "> Students should get into 4-6 groups, spaced at the whiteboards around the room."
   ]
  },
  {
   "cell_type": "markdown",
   "metadata": {
    "slideshow": {
     "slide_type": "slide"
    }
   },
   "source": [
    "#### FRAME: Understand the Problem\n",
    "\n",
    "Have each group develop one research question it would like to know about the class and form a hypothesis.\n",
    "> Note: Don't share these questions with the class just yet!\n",
    "\n",
    "Examples:\n",
    "\n",
    "- What is your current favorite tool for working with data?\n",
    "- What are you most excited about learning?\n",
    "- What can you help your classmates with when it comes to data analysis?\n",
    "\n",
    "#### PREPARE & ANALYZE: Obtain the Data and Examine It\n",
    "Rotate through the groups to \"collect the data\" and record the raw data on the whiteboard.\n",
    "\n",
    "> Optional: Create an easy, visual way for other students to write their answers, or come up with a quick option to save time.\n",
    "\n",
    "#### PRESENT: Communicate the Results of Your Analysis  \n",
    "\n",
    "- Summarize your findings in a narrative.\n",
    "- Provide a basic visualization for broader comprehension on the whiteboard.\n",
    "- Have one student present for the group.\n"
   ]
  },
  {
   "cell_type": "markdown",
   "metadata": {},
   "source": [
    "<a id=\"data-types\"></a>\n",
    "## Data Types and Dataset Types\n",
    "\n",
    "In our previous exercise, you may have noticed that you and your classmates recorded your data in different ways.\n",
    "\n",
    "### Data Types\n",
    "\n",
    "**Numerical**\n",
    "\n",
    "Simply enough, numerical data is typically data represented by numbers.\n",
    "- Examples: sales, height, passanger count, etc.\n",
    "\n",
    "**Categorical**\n",
    "\n",
    "Categorical data, on the other hand, is any data _not_ represented by numbers.\n",
    "- Examples: color, name, organism type, etc.\n",
    "\n",
    "\n"
   ]
  },
  {
   "cell_type": "markdown",
   "metadata": {},
   "source": [
    "###  Dataset Types\n",
    "\n",
    "Datasets can comprise both categorical and numerical data, and data set types can offer additional information about the data as a whole.\n",
    "\n",
    "**Cross-sectional**\n",
    "\n",
    "All information is determined at the same time; all data come from the same time period.\n",
    "\n",
    "**Time series**\n",
    "\n",
    "The information is collected over a period of time for a single group.\n",
    "\n",
    "**Longitudinal/Panel**\n",
    "\n",
    "The information is collected over a period of time for several groups.\n",
    "\n",
    "(Check out the data structures available in Pandas [here](http://pandas.pydata.org/pandas-docs/stable/overview.html).)"
   ]
  },
  {
   "cell_type": "markdown",
   "metadata": {},
   "source": [
    "### Why Do Data Types Matter?\n",
    "\n",
    "- Different data types have different limitations and strengths.\n",
    "- Certain types of analyses aren’t possible with certain data types."
   ]
  },
  {
   "cell_type": "markdown",
   "metadata": {},
   "source": [
    "<a id=\"data-terms\"></a>\n",
    "## Common Data Terminology\n",
    "![](./assets/images/feature_matrix.png)\n",
    "\n",
    "**Observations** are also known as: samples, examples, instances, and records.\n",
    "\n",
    "**Features** are also known as: predictors, independent variables, inputs, regressors, covariates, and attributes.\n",
    "\n",
    "**Response** is also known as: outcome, label, target, and dependent variable. Responses are often used in data science and machine learning.\n"
   ]
  },
  {
   "cell_type": "markdown",
   "metadata": {},
   "source": [
    "<a id=\"ML\"></a>\n",
    "\n",
    "## Introduction: Machine Learning\n",
    "\n",
    "_That buzzword everyone is talking about._\n",
    "\n",
    "#### What is Machine Learning?\n",
    "\n",
    "_\"A field of study that gives computers the ability to learn without being explicitly programmed.\"_\n",
    "— Arthur Samuel, AI pioneer\n",
    "\n",
    "One definition states that, “Machine learning is the semi-automatic extraction of knowledge from data.”\n",
    "\n",
    "**Knowledge from data:** The process starts with a question that might be answerable using data.\n",
    "\n",
    "**Automatic extraction:** A computer provides the insight.\n",
    "\n",
    "**Semi-automatic:** It still requires many smart decisions by a human."
   ]
  },
  {
   "cell_type": "markdown",
   "metadata": {},
   "source": [
    "### Types of Machine Learning\n",
    "\n",
    "There are two main categories of machine learning: supervised learning and unsupervised learning.\n",
    "\n",
    "**Supervised learning (a.k.a., “predictive modeling”):**  \n",
    "_Classification and regression_\n",
    "- Predicts an outcome based on input data.\n",
    "    - Example: Predict whether an email is Spam or Ham.\n",
    "- Its goal is “generalization.”\n",
    "\n",
    "**Unsupervised learning:**  \n",
    "_Clustering and dimensionality reduction_\n",
    "- Extracts structure from data.\n",
    "    - Example: Segmenting grocery store shoppers into “clusters” that exhibit similar behaviors.\n",
    "- Its goal is “representation.”\n",
    "\n",
    "It's typical to combine both types of machine learning in a project to reduce the costs of collecting data by learning a better representation. This is referred to as transfer learning.\n",
    "\n",
    "Unsupervised learning tends to present more difficult problems because its goals are amorphous. Supervised learning has goals that are almost too clear and can lead people into the trap of optimizing metrics without considering business value."
   ]
  },
  {
   "cell_type": "markdown",
   "metadata": {},
   "source": [
    "<a id=\"supervised\"></a>\n",
    "### Supervised Learning\n",
    "\n",
    "So, how does supervised learning “work”?\n",
    "\n",
    "1. We train a **machine learning model** using **labeled data** (the \"response\" label from earlier).\n",
    "    - “Labeled data” is data with a response variable.\n",
    "    - The “machine learning model” learns the relationship between the features and the response.\n",
    "\n",
    "2. We make predictions on **new data** for which the response is unknown.\n",
    "\n",
    "The primary goal of supervised learning is to build a model that “generalizes” — i.e., accurately predicts the **future** rather than the **past**!"
   ]
  },
  {
   "cell_type": "markdown",
   "metadata": {},
   "source": [
    "![](./assets/images/supervised-learning.png)"
   ]
  },
  {
   "cell_type": "markdown",
   "metadata": {},
   "source": [
    "### Practice: Classification vs. Regression\n",
    "\n",
    "There are two categories of supervised learning:\n",
    "\n",
    "**Regression**\n",
    "- The outcome we are trying to predict is continuous.\n",
    "    - Examples: price, blood pressure, etc.\n",
    "\n",
    "**Classification**\n",
    "- The outcome we are trying to predict is categorical (i.e., its values in a finite set).\n",
    "    - Examples: Spam/Ham, cancer class of tissue sample, etc.\n",
    "\n",
    "The type of supervised learning problem has nothing to do with the features; only the response matters!"
   ]
  },
  {
   "cell_type": "markdown",
   "metadata": {},
   "source": [
    "#### Supervised Learning Example: Coin Classifier*\n",
    "\n",
    "- **Observations:** Coins.\n",
    "- **Features:** Size and mass.\n",
    "- **Response:** Hand-labeled coin type.\n",
    "\n",
    "- Train a machine learning model using labeled data.\n",
    "    - The model learns the relationship between the features and the coin type.\n",
    "\n",
    "- Make predictions on new data for which the response is unknown.\n",
    "    - Give the model a new coin, and it will predict the coin type automatically.\n",
    "    \n",
    "![](./assets/images/supervised-coins.png)"
   ]
  },
  {
   "cell_type": "markdown",
   "metadata": {},
   "source": [
    "<a id=\"practice2\"></a>\n",
    "#### Practice: Regression or Classification?\n",
    "\n",
    "With a nearby partner (or two), decide if the problems below are classification, regression, or both."
   ]
  },
  {
   "cell_type": "markdown",
   "metadata": {},
   "source": [
    "#### 1. Predict salary using demographic data.\n",
    "![](./assets/images/salary-regression.png)"
   ]
  },
  {
   "cell_type": "markdown",
   "metadata": {},
   "source": [
    "#### 2. Identify the numbers in a handwritten zip code.\n",
    "![](./assets/images/ocr-classification.png)"
   ]
  },
  {
   "cell_type": "markdown",
   "metadata": {},
   "source": [
    "#### 3. Consider the following:\n",
    "\n",
    "**Problem:** Children born prematurely are at high risk of developing infections, many of which are not detected until after the baby is sick.\n",
    "\n",
    "**Goal:** Detect subtle patterns in the data that predict infection before it occurs.\n",
    "\n",
    "**Data:** 16 vital signs such as heart rate, respiration rate, blood pressure, etc.\n",
    "\n",
    "**Impact:** The model is able to predict the onset of infection 24 hours before the traditional symptoms of infection appear.\n",
    "\n",
    "**Case Study:** http://www.amazon.com/Big-Data-Revolution-Transform-Think/dp/0544002695"
   ]
  },
  {
   "cell_type": "markdown",
   "metadata": {},
   "source": [
    "<a id=\"unsupervised\"></a>\n",
    "### Unsupervised Learning\n",
    "\n",
    "Unsupervised learning has some clear differences from supervised learning. With unsupervised learning:\n",
    "\n",
    "- There is no clear objective.\n",
    "- There is no “right answer” (it's hard to tell how well you are doing).\n",
    "- There is no response variable, only observations with features.\n",
    "- Labeled data is not required.\n",
    "\n",
    "**Unsupervised learning:**\n",
    "\n",
    "- Extracts structure from data.\n",
    "    - Example: Segmenting grocery store shoppers into “clusters” that exhibit similar behaviors.\n",
    "- Its goal is “representation.”\n",
    "\n"
   ]
  },
  {
   "cell_type": "markdown",
   "metadata": {},
   "source": [
    "#### Common Types of Unsupervised Learning\n",
    "\n",
    "- **Clustering:** Groups “similar” data points together.\n",
    "- **Dimensionality Reduction:** Reduce the dimensionality of a data set by extracting features that capture most of the variance in the data."
   ]
  },
  {
   "cell_type": "markdown",
   "metadata": {},
   "source": [
    "**Steps for Clustering**\n",
    "\n",
    "Considering our coin example,\n",
    "\n",
    "1. Perform unsupervised learning.\n",
    "2. Cluster the coins based on “similarity.”\n",
    "3. Inspect the grouping that the algorithm found.\n",
    "4. You’re done!\n",
    "\n",
    "Hopefully this would put the coins into four separate groups."
   ]
  },
  {
   "cell_type": "markdown",
   "metadata": {},
   "source": [
    "**Steps for Dimensionality Reduction**\n",
    "\n",
    "Considering our coin example,\n",
    "\n",
    "1. Perform unsupervised learning.\n",
    "2. Cluster the coins based on “similarity.”\n",
    "3. Inspect the features produces by the algorithm.\n",
    "4. You’re done!\n",
    "\n",
    "Hopefully the algorithm would recognize something like: \n",
    "\n",
    "$$\\dfrac {mass} {size} = density$$\n",
    "\n",
    "Sometimes unsupervised learning is used as a “preprocessing” step for supervised learning. (Can you guess how?)"
   ]
  },
  {
   "cell_type": "markdown",
   "metadata": {},
   "source": [
    "#### Unsupervised Learning Example: Coin Clustering and Dimensionality Reduction\n",
    "\n",
    "- **Observations:** Coins.\n",
    "- **Features:** Size and mass.\n",
    "- **Response:** There isn’t one (no hand-labeling required!).\n",
    "\n",
    "![](./assets/images/unsupervised-coins.png)"
   ]
  },
  {
   "cell_type": "markdown",
   "metadata": {},
   "source": [
    "<a id = 'algorithm'></a>\n",
    "\n",
    "## Algorithms\n",
    "\n",
    "Reguardless of whether its supervised or unsupervised, the underlying engine driving a machine learning model is an algorithm. These algorithms are used to help identify trends, represent said trends, and explain the overall variance of the data.   \n",
    "\n",
    "Let's say we are a real estate agent looking to price a house using only its square feet. We know there are other features that can highly influence this outcome, but we are just focusing on the square footage for now. We know that, as square footage increases, so does price. At this point you may be thinking that a simple algebra equation could be useful; one that helps us price the house by its square footage.  \n",
    "\n",
    "Recently we sold a house whose square footage was 2,500 for about \\$285,000. If we apply this information to a normal linear equation — $ Y = mx + b$ — we can create a simple _algorithm_ to help us price a house.\n",
    "\n",
    "$$285,000 = 2,500x + b$$\n",
    "\n",
    "$$ x = 114, b = 0 $$ \n",
    "\n",
    "_The Y intercept has been omitted for this example._\n",
    "\n",
    "#### Final Algorithm\n",
    "\n",
    "$$ Price = 114x $$\n",
    "\n",
    "This is an example of a model built with the intent of predicting price. The algorithm is simple and is built off of limited information. Typically, our models will be more complex, and we'll consider a greater amount of prior data to help us develop a final algorithm.  \n",
    "\n",
    "#### Algorithm Training \n",
    "\n",
    "In our example, we used previously known information to find our coefficients. This action is also known as \"Training.\" But let's make something clear:\n",
    "\n",
    "- Model building would be the task of constructing an actual algorithm.\n",
    "    - This is the linear model of $ Y = mx + b $.\n",
    "- Training involves figuring out the coefficient and the Y intercept the model uses for _our intended purpose_.  \n",
    "    - The coefficents uncovered via training were $m= 114$ and $b=0$.\n",
    "\n"
   ]
  },
  {
   "cell_type": "markdown",
   "metadata": {},
   "source": [
    "<a id=\"sklearn\"></a>\n",
    "\n",
    "## Introduction: scikit-learn\n",
    "\n",
    "- Typically, we won't be implementing machine learning algorithms from scratch.\n",
    "- Scikit-learn, referred to as \"sklearn,\" is a popular machine learning library in Python.\n",
    "- Its benefits include ease of use and great documentation.\n",
    "- It's possible to find other libraries and tools with better performing algorithms, but sklearn is a great place to start.\n",
    "\n",
    "Find it [here](http://scikit-learn.org/stable/).\n",
    "\n",
    "### Why Python?\n",
    "\n",
    "When it comes to the debate of Python versus R, there is no clear winner; both have their pros and cons. While R was the original language for data science and processing, Python's popularity has serged in recent years, to the point where its used equally throughout the field. In addition to the friendly nature of the language, Python's origin as an open-source programming language have greatly contributed to its appeal. Because it is a programming language, those that pick it up for data science can easily pick up front-end and back-end programming skills with Python. Additionally, this allows data science deliverables built in Python to be immediately implemented within a Python-based website or program.  \n",
    "\n",
    "\n",
    "**Reasons for Choosing Python**\n",
    "\n",
    "- It was created for simplicity and readability.\n",
    "- It allows for rapid prototyping and ease of production. \n",
    "- It features open-source, importable libraries.\n",
    "- It has a broad range of applications.\n",
    "- It boasts a fast-growing community of users.\n",
    "\n",
    "\n",
    " "
   ]
  },
  {
   "cell_type": "markdown",
   "metadata": {
    "slideshow": {
     "slide_type": "slide"
    }
   },
   "source": [
    "<a id=\"conclusion\"></a>\n",
    "## Conclusion\n",
    "\n",
    "---\n",
    "\n",
    "By now, you should be able to answer the following questions easily:\n",
    "\n",
    "- What is data science?\n",
    "- What is the data science workflow?\n",
    "- How can you have a successful learning experience at GA?"
   ]
  },
  {
   "cell_type": "markdown",
   "metadata": {
    "collapsed": true,
    "slideshow": {
     "slide_type": "slide"
    }
   },
   "source": [
    "<a id=\"add_res\"></a>\n",
    "### Additional Resources\n",
    "\n",
    "---\n",
    "\n",
    "* For a useful look at the different types of data scientists, read [Analyzing the Analyzers](http://cdn.oreillystatic.com/oreilly/radarreport/0636920029014/Analyzing_the_Analyzers.pdf) (32 pages).\n",
    "* For thoughts on what it's like to be a data scientist, read these short posts from [Win-Vector](http://www.win-vector.com/blog/2012/09/on-being-a-data-scientist/) and [Datascope Analytics](http://datascopeanalytics.com/what-we-think/2014/07/31/six-qualities-of-a-great-data-scientist).\n",
    "* Read an [Introduction to Statistical Learning](http://www-bcf.usc.edu/~gareth/ISL/) for more information on machine learning. (Note that the applications in its examples are in R.)"
   ]
  },
  {
   "cell_type": "code",
   "execution_count": null,
   "metadata": {
    "collapsed": true
   },
   "outputs": [],
   "source": []
  }
 ],
 "metadata": {
  "celltoolbar": "Slideshow",
  "kernelspec": {
   "display_name": "Python 2",
   "language": "python",
   "name": "python2"
  },
  "language_info": {
   "codemirror_mode": {
    "name": "ipython",
    "version": 2
   },
   "file_extension": ".py",
   "mimetype": "text/x-python",
   "name": "python",
   "nbconvert_exporter": "python",
   "pygments_lexer": "ipython2",
   "version": "2.7.13"
  }
 },
 "nbformat": 4,
 "nbformat_minor": 2
}
